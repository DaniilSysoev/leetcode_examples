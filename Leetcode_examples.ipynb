{
  "nbformat": 4,
  "nbformat_minor": 0,
  "metadata": {
    "colab": {
      "provenance": [],
      "authorship_tag": "ABX9TyM9M8bLOJ0JJdykBvzVlpi3",
      "include_colab_link": true
    },
    "kernelspec": {
      "name": "python3",
      "display_name": "Python 3"
    },
    "language_info": {
      "name": "python"
    }
  },
  "cells": [
    {
      "cell_type": "markdown",
      "metadata": {
        "id": "view-in-github",
        "colab_type": "text"
      },
      "source": [
        "<a href=\"https://colab.research.google.com/github/DaniilSysoev/leetcode_examples/blob/main/Leetcode_examples.ipynb\" target=\"_parent\"><img src=\"https://colab.research.google.com/assets/colab-badge.svg\" alt=\"Open In Colab\"/></a>"
      ]
    },
    {
      "cell_type": "markdown",
      "source": [
        "<h1>Merge Two Sorted Lists</h1>"
      ],
      "metadata": {
        "id": "lrtHtFPIj1rJ"
      }
    },
    {
      "cell_type": "markdown",
      "source": [
        "You are given the heads of two sorted linked lists list1 and list2.\n",
        "\n",
        "Merge the two lists in a one sorted list. The list should be made by splicing together the nodes of the first two lists.\n",
        "\n",
        "Return the head of the merged linked list."
      ],
      "metadata": {
        "id": "3F4IJbd_XVcn"
      }
    },
    {
      "cell_type": "code",
      "execution_count": null,
      "metadata": {
        "id": "CN5dtoZgXSvb"
      },
      "outputs": [],
      "source": [
        "class Solution:\n",
        "    def mergeTwoLists(self, list1: Optional[ListNode], list2: Optional[ListNode]) -> Optional[ListNode]:\n",
        "        answer = []\n",
        "        while list1 or list2:\n",
        "            if list1:\n",
        "                answer.append(list1.val)\n",
        "                list1 = list1.next\n",
        "            else:\n",
        "                answer.append(list2.val)\n",
        "                list2 = list2.next\n",
        "        answer.sort()\n",
        "        start = solve = ListNode()\n",
        "        for i in answer:\n",
        "            solve.next = ListNode(val=i)\n",
        "            solve = solve.next\n",
        "        else:\n",
        "            return start.next"
      ]
    },
    {
      "cell_type": "markdown",
      "source": [
        "<h1>Remove Duplicates from Sorted Array</h1>"
      ],
      "metadata": {
        "id": "cbCEN-fLj44q"
      }
    },
    {
      "cell_type": "markdown",
      "source": [
        "Given an integer array nums sorted in non-decreasing order, remove the duplicates in-place such that each unique element appears only once. The relative order of the elements should be kept the same.\n",
        "\n",
        "Since it is impossible to change the length of the array in some languages, you must instead have the result be placed in the first part of the array nums. More formally, if there are k elements after removing the duplicates, then the first k elements of nums should hold the final result. It does not matter what you leave beyond the first k elements.\n",
        "\n",
        "Return k after placing the final result in the first k slots of nums.\n",
        "\n",
        "Do not allocate extra space for another array. You must do this by modifying the input array in-place with O(1) extra memory."
      ],
      "metadata": {
        "id": "2YGxWzT8fGTj"
      }
    },
    {
      "cell_type": "code",
      "source": [
        "class Solution:\n",
        "    def removeDuplicates(self, nums: List[int]) -> int:\n",
        "        nums[:] = sorted(list(set(nums)))\n",
        "        return len(nums)"
      ],
      "metadata": {
        "id": "WcI48ag3jd9j"
      },
      "execution_count": null,
      "outputs": []
    },
    {
      "cell_type": "markdown",
      "source": [
        "<h1>Remove Element</h1>"
      ],
      "metadata": {
        "id": "nMrdLGu6Rz21"
      }
    },
    {
      "cell_type": "markdown",
      "source": [
        "Given an integer array nums and an integer val, remove all occurrences of val in nums in-place. The relative order of the elements may be changed.\n",
        "\n",
        "Since it is impossible to change the length of the array in some languages, you must instead have the result be placed in the first part of the array nums. More formally, if there are k elements after removing the duplicates, then the first k elements of nums should hold the final result. It does not matter what you leave beyond the first k elements.\n",
        "\n",
        "Return k after placing the final result in the first k slots of nums.\n",
        "\n",
        "Do not allocate extra space for another array. You must do this by modifying the input array in-place with O(1) extra memory."
      ],
      "metadata": {
        "id": "ELBeruyGR5EV"
      }
    },
    {
      "cell_type": "code",
      "source": [
        "class Solution:\n",
        "    def removeElement(self, nums: List[int], val: int) -> int:\n",
        "        i = 0\n",
        "        for j, v in enumerate(nums):\n",
        "            if v != val:\n",
        "                nums[i] = nums[j]\n",
        "                i += 1\n",
        "        return i"
      ],
      "metadata": {
        "id": "KFmP8P82R0F_"
      },
      "execution_count": null,
      "outputs": []
    },
    {
      "cell_type": "markdown",
      "source": [
        "<h1>Search Insert Position</h1>"
      ],
      "metadata": {
        "id": "S_QY21mbajc7"
      }
    },
    {
      "cell_type": "markdown",
      "source": [
        "Given a sorted array of distinct integers and a target value, return the index if the target is found. If not, return the index where it would be if it were inserted in order.\n",
        "\n",
        "You must write an algorithm with O(log n) runtime complexity."
      ],
      "metadata": {
        "id": "FHaMT8dkakNR"
      }
    },
    {
      "cell_type": "code",
      "source": [
        "class Solution:\n",
        "    def searchInsert(self, nums: List[int], target: int) -> int:\n",
        "        low = 0\n",
        "        high = len(nums)-1\n",
        "        while low <= high:\n",
        "            mid = (low+high)//2\n",
        "            if target > nums[mid]:\n",
        "                low = mid + 1\n",
        "            elif target < nums[mid]:\n",
        "                high = mid - 1\n",
        "            else:\n",
        "                return mid\n",
        "        return low"
      ],
      "metadata": {
        "id": "vTrRPUjYakda"
      },
      "execution_count": null,
      "outputs": []
    },
    {
      "cell_type": "markdown",
      "source": [
        "<h1>Length of Last Word</h1>"
      ],
      "metadata": {
        "id": "X1Zg76363Gfa"
      }
    },
    {
      "cell_type": "markdown",
      "source": [
        "Given a string s consisting of words and spaces, return the length of the last word in the string.\n",
        "\n",
        "A word is a maximal substring consisting of non-space characters only."
      ],
      "metadata": {
        "id": "oxW1SdKY3Ldq"
      }
    },
    {
      "cell_type": "code",
      "source": [
        "class Solution:\n",
        "    def lengthOfLastWord(self, s: str) -> int:\n",
        "        return len(list(s.split())[-1])"
      ],
      "metadata": {
        "id": "pkLnKdU53PS5"
      },
      "execution_count": null,
      "outputs": []
    }
  ]
}